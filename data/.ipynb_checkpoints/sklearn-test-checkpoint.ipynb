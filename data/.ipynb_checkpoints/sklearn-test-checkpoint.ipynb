{
 "cells": [
  {
   "cell_type": "code",
   "execution_count": 1,
   "id": "454cf152-f0f2-41e7-876f-cfe8241b043f",
   "metadata": {},
   "outputs": [],
   "source": [
    "simple_train = ['hello', 'hi', 'good morning', 'good afternoon', 'it is raining', 'I am playing baseball', 'watching tv']"
   ]
  },
  {
   "cell_type": "code",
   "execution_count": 2,
   "id": "c2c1ec2f-d5be-4913-87b5-010b4af753c9",
   "metadata": {},
   "outputs": [],
   "source": [
    "from sklearn.feature_extraction.text import CountVectorizer\n",
    "vect = CountVectorizer()\n"
   ]
  },
  {
   "cell_type": "code",
   "execution_count": 8,
   "id": "88ae6d2f-fffe-4b30-acd1-2898a847cdb0",
   "metadata": {},
   "outputs": [
    {
     "data": {
      "text/plain": [
       "<7x13 sparse matrix of type '<class 'numpy.int64'>'\n",
       "\twith 14 stored elements in Compressed Sparse Row format>"
      ]
     },
     "execution_count": 8,
     "metadata": {},
     "output_type": "execute_result"
    }
   ],
   "source": [
    "simple_train_dtm = vect.fit_transform(simple_train)\n",
    "simple_train_dtm"
   ]
  },
  {
   "cell_type": "code",
   "execution_count": 9,
   "id": "e8c11f56-8808-4ae3-b169-295d436ad6c0",
   "metadata": {},
   "outputs": [
    {
     "data": {
      "text/plain": [
       "<1x13 sparse matrix of type '<class 'numpy.int64'>'\n",
       "\twith 1 stored elements in Compressed Sparse Row format>"
      ]
     },
     "execution_count": 9,
     "metadata": {},
     "output_type": "execute_result"
    }
   ],
   "source": [
    "simple_test = [\"hi there\"]\n",
    "simple_test_dtm = vect.transform(simple_test)\n",
    "simple_test_dtm"
   ]
  },
  {
   "cell_type": "code",
   "execution_count": null,
   "id": "16bd86a5-1a3d-4a95-8948-d532f0a0e07c",
   "metadata": {},
   "outputs": [],
   "source": []
  }
 ],
 "metadata": {
  "kernelspec": {
   "display_name": "Python 3 (ipykernel)",
   "language": "python",
   "name": "python3"
  },
  "language_info": {
   "codemirror_mode": {
    "name": "ipython",
    "version": 3
   },
   "file_extension": ".py",
   "mimetype": "text/x-python",
   "name": "python",
   "nbconvert_exporter": "python",
   "pygments_lexer": "ipython3",
   "version": "3.11.6"
  }
 },
 "nbformat": 4,
 "nbformat_minor": 5
}
